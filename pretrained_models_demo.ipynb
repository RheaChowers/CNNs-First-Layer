{
  "cells": [
    {
      "cell_type": "code",
      "execution_count": null,
      "metadata": {
        "id": "f4N-pUJiknTu"
      },
      "outputs": [],
      "source": [
        "import torch\n",
        "from matplotlib import pyplot as plt\n",
        "import numpy as np\n",
        "import os\n",
        "import torchvision\n",
        "import torchvision.transforms as transforms\n",
        "import seaborn as sns\n",
        "import pandas as pd\n",
        "hub_repo = 'pytorch/vision:v0.10.0'\n",
        "\n",
        "input_channels = 3\n",
        "kernel_size = 3\n",
        "\n",
        "if kernel_size == 3:\n",
        "    model_names = ['vgg11', 'vgg11_bn', 'vgg13', 'vgg13_bn', 'vgg16', 'vgg16_bn', 'vgg19', \n",
        "                   'vgg19_bn', 'deeplabv3_mobilenet_v3_large', 'inception_v3', \n",
        "                   'lraspp_mobilenet_v3_large', 'mobilenet_v2', 'mobilenet_v3_large',\n",
        "                   'shufflenet_v2_x0_5', 'shufflenet_v2_x1_0', 'squeezenet1_1']\n",
        "elif kernel_size == 7:\n",
        "    model_names = ['deeplabv3_resnet101', 'deeplabv3_resnet50', 'densenet121', 'densenet161',\n",
        "                   'densenet169', 'densenet201', 'fcn_resnet101', 'fcn_resnet50', 'googlenet',\n",
        "                   'resnet101', 'resnet152', 'resnet18', 'resnet34', 'resnet50', 'resnext101_32x8d',\n",
        "                   'resnext50_32x4d', 'squeezenet1_0', 'wide_resnet101_2', 'wide_resnet50_2']"
      ]
    },
    {
      "cell_type": "markdown",
      "metadata": {},
      "source": [
        "Calculate the PCA of the dataset patches."
      ]
    },
    {
      "cell_type": "code",
      "execution_count": null,
      "metadata": {
        "colab": {
          "base_uri": "https://localhost:8080/"
        },
        "id": "y_2M8pvZkuoB",
        "outputId": "5aa9d2bc-620f-45a4-97f4-9cddfd093ff9"
      },
      "outputs": [],
      "source": [
        "# download dataset\n",
        "cifar_testset = torchvision.datasets.CIFAR10(root='./data', train=False, download=True, transform=transforms.ToTensor())\n",
        "# rescale to [0,1], patchify\n",
        "images = torch.tensor(cifar_testset.data / cifar_testset.data.max(), dtype=torch.double)\n",
        "image_patches = images.unfold(1, 3, 1).unfold(2, kernel_size, 1).unfold(3, input_channels, 1)\n",
        "image_patches = image_patches.flatten(0, -4).flatten(1)\n",
        "\n",
        "_, _, pca_components = torch.pca_lowrank(image_patches, q=image_patches.shape[-1])"
      ]
    },
    {
      "cell_type": "markdown",
      "metadata": {
        "id": "fLPLR_VVkr1o"
      },
      "source": [
        "Download all pretrained models from the pytorch vision hub with the same (given) kernel size in the first layer."
      ]
    },
    {
      "cell_type": "code",
      "execution_count": null,
      "metadata": {
        "colab": {
          "base_uri": "https://localhost:8080/"
        },
        "id": "M68AC3Q0ktEB",
        "outputId": "38db8e5d-e51a-4b08-a806-f6c36b61f93b"
      },
      "outputs": [],
      "source": [
        "model_first_layers = dict()\n",
        "for modelname in model_names:\n",
        "    model = torch.hub.load(hub_repo, modelname, pretrained=True)\n",
        "    model_first_layers[modelname] = next(iter(model.state_dict().items()))[1].flatten(1)\n"
      ]
    },
    {
      "cell_type": "markdown",
      "metadata": {
        "id": "9cVnAzjJkvxH"
      },
      "source": [
        "After computing the PCA components from the test images and downloading the models for comparison, we are ready to project them onto the components and calculate the energy. \n"
      ]
    },
    {
      "cell_type": "code",
      "execution_count": null,
      "metadata": {
        "colab": {
          "base_uri": "https://localhost:8080/",
          "height": 889
        },
        "id": "4zPGeRp5kxhl",
        "outputId": "ffe41e1d-e22f-44f3-8ee6-45501635df9d"
      },
      "outputs": [],
      "source": [
        "df = pd.DataFrame()\n",
        "figs, (ax1, ax2) = plt.subplots(1,2,figsize=(25,15))\n",
        "for m in model_first_layers:\n",
        "    first_layer = model_first_layers[m]\n",
        "    energy_profile = torch.norm(first_layer @ pca_components.to(torch.float32), dim=0).numpy()\n",
        "    energy_profile = energy_profile / energy_profile.max()\n",
        "    x = range(1, energy_profile.shape[0] + 1)\n",
        "    ax1.plot(x, energy_profile, label=m)\n",
        "    row = {i: energy_profile[i-1] for i in x}\n",
        "    row[\"Model Name\"] = m\n",
        "    df = df.append(row, ignore_index=True)\n",
        "\n",
        "\n",
        "df.set_index(\"Model Name\",inplace=True)\n",
        "sns.heatmap(df.T.corr(), vmin=0, vmax=1, annot=True, ax=ax2, square=True)"
      ]
    }
  ],
  "metadata": {
    "colab": {
      "name": "Untitled0.ipynb",
      "provenance": []
    },
    "kernelspec": {
      "display_name": "Python 3",
      "name": "python3"
    },
    "language_info": {
      "name": "python"
    }
  },
  "nbformat": 4,
  "nbformat_minor": 0
}
