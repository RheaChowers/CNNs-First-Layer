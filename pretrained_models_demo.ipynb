{
  "nbformat": 4,
  "nbformat_minor": 0,
  "metadata": {
    "colab": {
      "name": "Untitled0.ipynb",
      "provenance": []
    },
    "kernelspec": {
      "name": "python3",
      "display_name": "Python 3"
    },
    "language_info": {
      "name": "python"
    }
  },
  "cells": [
    {
      "cell_type": "code",
      "execution_count": null,
      "metadata": {
        "id": "f4N-pUJiknTu"
      },
      "outputs": [],
      "source": [
        "import torch\n",
        "from matplotlib import pyplot as plt\n",
        "import numpy as np\n",
        "import os\n",
        "import torchvision\n",
        "import torchvision.transforms as transforms\n",
        "import seaborn as sns\n",
        "import pandas as pd\n",
        "hub_repo = 'pytorch/vision:v0.10.0'\n",
        "\n",
        "\n",
        "input_channels = 3\n",
        "kernel_size = 3\n",
        "\n",
        "if kernel_size == 3:\n",
        "    model_names = ['vgg11', 'vgg11_bn', 'vgg13', 'vgg13_bn', 'vgg16', 'vgg16_bn', 'vgg19', \n",
        "                   'vgg19_bn', 'deeplabv3_mobilenet_v3_large', 'inception_v3', \n",
        "                   'lraspp_mobilenet_v3_large',\n",
        "                   'mobilenet_v2', 'mobilenet_v3_large',\n",
        "                   'mobilenet_v3_small', 'shufflenet_v2_x0_5', 'shufflenet_v2_x1_0', 'squeezenet1_1']\n",
        "elif kernel_size == 7:\n",
        "    model_names = ['deeplabv3_resnet101', 'deeplabv3_resnet50', 'densenet121', 'densenet161',\n",
        "                   'densenet169', 'densenet201', 'fcn_resnet101', 'fcn_resnet50', 'googlenet',\n",
        "                   'resnet101', 'resnet152', 'resnet18', 'resnet34', 'resnet50', 'resnext101_32x8d',\n",
        "                   'resnext50_32x4d', 'squeezenet1_0', 'wide_resnet101_2', 'wide_resnet50_2']"
      ]
    },
    {
      "cell_type": "markdown",
      "source": [
        "Download all pretrained models from the pytorch vision hub with the same (given) kernel size in the first layer."
      ],
      "metadata": {
        "id": "fLPLR_VVkr1o"
      }
    },
    {
      "cell_type": "code",
      "source": [
        "models = dict()\n",
        "for modelname in model_names:\n",
        "    models[modelname] = torch.hub.load(hub_repo, modelname, pretrained=True)"
      ],
      "metadata": {
        "id": "M68AC3Q0ktEB"
      },
      "execution_count": null,
      "outputs": []
    },
    {
      "cell_type": "markdown",
      "source": [
        "Calculate the PCA of the dataset patches"
      ],
      "metadata": {
        "id": "OhH6bB4akt3x"
      }
    },
    {
      "cell_type": "code",
      "source": [
        "# download dataset\n",
        "cifar_testset = torchvision.datasets.CIFAR10(root='./data', train=False, download=True, transform=transforms.ToTensor())\n",
        "# rescale to [0,1], patchify\n",
        "images = torch.tensor(cifar_testset.data / cifar_testset.data.max(), dtype=torch.double)\n",
        "image_patches = images.unfold(1, 3, 1).unfold(2, kernel_size, 1).unfold(3, input_channels, 1)\n",
        "image_patches = image_patches.flatten(0, -4).flatten(1)\n",
        "\n",
        "_, _, pca_components = torch.pca_lowrank(image_patches, q=image_patches.shape[-1])"
      ],
      "metadata": {
        "id": "y_2M8pvZkuoB"
      },
      "execution_count": null,
      "outputs": []
    },
    {
      "cell_type": "markdown",
      "source": [
        "After computing the PCA components from the test images and downloading the models for comparison, we are ready to project them onto the components and calculate the energy. \n"
      ],
      "metadata": {
        "id": "9cVnAzjJkvxH"
      }
    },
    {
      "cell_type": "code",
      "source": [
        "df = pd.DataFrame()\n",
        "plt.figure()\n",
        "for m in models:\n",
        "    model = models[m]\n",
        "    first_layer = next(iter(model.state_dict().items()))[1].flatten(1)\n",
        "    energy_profile = torch.norm(first_layer @ pca_components.to(torch.float32), dim=0).numpy()\n",
        "    energy_profile = energy_profile / energy_profile.max()\n",
        "    x = range(1, energy_profile.shape[0] + 1)\n",
        "    plt.plot(x, energy_profile, label=m)\n",
        "    row = {i: energy_profile[i-1] for i in x}\n",
        "    row[\"Model Name\"] = m\n",
        "    df = df.append(row, ignore_index=True)\n",
        "plt.show()\n",
        "\n",
        "df.set_index(\"Model Name\",inplace=True)\n",
        "sns.heatmap(df.T.corr(), vmin=-1, vmax=1)"
      ],
      "metadata": {
        "id": "4zPGeRp5kxhl"
      },
      "execution_count": null,
      "outputs": []
    }
  ]
}
